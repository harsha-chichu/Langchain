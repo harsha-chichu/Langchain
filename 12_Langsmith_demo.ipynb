{
 "cells": [
  {
   "cell_type": "code",
   "execution_count": 4,
   "id": "54b2eb0c",
   "metadata": {},
   "outputs": [],
   "source": [
    "import os\n",
    "from langchain_groq import ChatGroq\n",
    "from langchain_core.prompts import ChatPromptTemplate\n",
    "from langchain_core.output_parsers import StrOutputParser\n",
    "from dotenv import load_dotenv"
   ]
  },
  {
   "cell_type": "code",
   "execution_count": 6,
   "id": "4e9dadaa",
   "metadata": {},
   "outputs": [],
   "source": [
    "load_dotenv()\n",
    "\n",
    "os.environ[\"GROQ_API_KEY\"]=os.getenv(\"GROQ_API_KEY\")\n",
    "os.environ[\"LANGCHAIN_TRACING_V2\"]=\"true\"\n",
    "os.environ[\"LANGCHAIN_API_KEY\"]=os.getenv(\"LANGCHAIN_API_KEY\")"
   ]
  },
  {
   "cell_type": "code",
   "execution_count": 16,
   "id": "f4cd527b",
   "metadata": {},
   "outputs": [],
   "source": [
    "prompt = ChatPromptTemplate.from_messages(\n",
    "    [\n",
    "        (\"system\",\"You are a helpful assistant. Please response to the user request only based on the given context\"),\n",
    "        (\"user\",\"Question:{question}\\ncontext:{context}\")\n",
    "    ]\n",
    ")"
   ]
  },
  {
   "cell_type": "code",
   "execution_count": 17,
   "id": "94a79b5b",
   "metadata": {},
   "outputs": [],
   "source": [
    "llm = ChatGroq(\n",
    "    model_name=\"llama-3.3-70b-versatile\",\n",
    "    temperature=0.7,\n",
    ")\n",
    "\n",
    "output_parser = StrOutputParser()"
   ]
  },
  {
   "cell_type": "code",
   "execution_count": 18,
   "id": "5e0bfcc5",
   "metadata": {},
   "outputs": [],
   "source": [
    "chain = prompt | llm | output_parser"
   ]
  },
  {
   "cell_type": "code",
   "execution_count": 19,
   "id": "e35b2b3f",
   "metadata": {},
   "outputs": [],
   "source": [
    "question=\"can you summarize this story?\"\n",
    "\n",
    "context=\"\"\"\n",
    "Randy Jenkins, age sixty, lived the kind of life people don’t write stories about. He sold office supplies out of a small showroom in the back corner of a strip mall just outside Corpus Christi. He wore beige. Ate microwave dinners. And spent more time talking to his cat, General Whiskers, than to people. It was 1997.\n",
    "\n",
    "But in his dreams—oh, in his dreams—he was twenty again, and behind the wheel of his cherry red and ivory-topped 1957 Chevrolet Bel Air. The one his parents gave him for acing his pre-med prep. His first new car that replaced the ’49 clunker. He called this new beauty Marilyn, after you-know-who. The vehicle that roared with pride. That sparkled under the Texas sun. Summer break was just beginning, and he had Martha Jo Hansen.\n",
    "\n",
    "God, she was something. Blonde curls that caught the wind like streamers, a laugh that danced in the heat, and the softest Southern voice that could hush a storm. That summer, Martha Jo and Marilyn were his universe. Randy floated on the clouds of admiration from his buddies for his car and his girl.\n",
    "\n",
    "But he’d been young and stupid—too busy buffing chrome, waxing the paint, vacuuming the interior, and racing down back roads to notice Martha Jo gradually pulling away. By September, she was gone. Off to college in Dallas. He never followed. Flunked out of pre-med. He got his own place to live, couldn’t keep jobs, and was in debt. He reluctantly sold Marilyn to put food on his table and pay rent. Spent the next forty years floating through a lukewarm life—a listless shell with no interests or enthusiasm for anything.\n",
    "\n",
    "Until the day he saw her again.\n",
    "\n",
    "Not Martha Jo. But Marilyn.\n",
    "\n",
    "Or at least, her rusted twin.\n",
    "\n",
    "The same red and ivory. Same tailfins. Hidden behind a fence in a yard filled with rusting relics of past glory days. The sign read, “Bud’s Salvage & Repair. We Fix the Past.”\n",
    "\n",
    "Randy stared, heart pounding. It had to be fate. He had to examine the ’57 up close.\n",
    "\n",
    "A door in the wooden shack that said Office opened. “Looks like she’s seen better days,” said an old man, appearing like smoke from the rickety doorway. He wore oil-stained coveralls and a straw hat over his deep-wrinkled face.\n",
    "\n",
    "Randy rubbed his quivering hand on the fender. “She’s just like mine from forty years ago. Jeesh, but I loved that car,” his voice cracked.\n",
    "\n",
    "“She’ll need more than money, fella. You gotta put love and heart in a car like that.”\n",
    "\n",
    "“I know,” Randy sighed. “Believe me, I know.” He opened his wallet and handed over every large bill, keeping a five and two ones. \n",
    "\n",
    "“I’s asking more,” the hunched old man said with a crafty smile and twinkle in his eye. “But I believe this car is for you. Take it, son.” He handed him the set of keys. Randy got in wide-eyed and didn’t let a few rips in the upholstery bother him. He looked through the window. The old man was nowhere to be seen.\n",
    "\n",
    "And so began the resurrection of a car with 120,000 miles on the odometer and forty years of age.\n",
    "\n",
    "Coughing black smoke, she shook like a soda can full of rocks. She barely made it home. The odometer, oddly, had ticked backward faster than actual forward miles traveled. Randy had heard of some shade-tree mechanics illegally doing this in the old days to keep mileage low.\n",
    "\n",
    "But he scrubbed her every night after work. Sanded her rusted edges. Rebuilt the carburetor. Whispered to her in his brother’s garage—Marilyn, it’ll be just like old times.\n",
    "\n",
    "Marilyn cranked by herself. Not just running. Humming. \n",
    "\n",
    "He got in and saw the key in and the ignition accidentally on. Maybe a short, but might as well ride a bit—the odometer showed 118,000 miles.\n",
    "\n",
    "He drove to the next town. It ticked back further.\n",
    "\n",
    "At 110,000 miles, the leather smelled less musty.\n",
    "\n",
    "A few days later, at 100,000, the radio crackled back to life with Elvis. Upholstery rips gone. And Randy—well, his knees hurt less, and his back straightened up without him noticing. \n",
    "\n",
    "On a hunch, Randy found his old keepsake papers—a black-and-white photo of him in front of Marilyn the day his folks bought it. A gym clip held the window sticker and details he’d kept all those years. It had the serial number. He ran out to Marilyn. They matched. Astounded, he’d found his original car.\n",
    "\n",
    "After a two-hundred-mile joyride, Marilyn gleamed like a pin-up in chrome. Her engine purred like she was flirting. Paint looked new, and he could swear the wide front grille was smiling. At the next gas station, the newspaper in the rack said April 7, 1992—not 1997.\n",
    "\n",
    "He wasn’t just feeling younger.\n",
    "\n",
    "He was younger, and so was Marilyn.\n",
    "\n",
    "Randy went home long enough to stuff his pants with money for gas. He gave Whiskers, now a small kitten, to his delighted neighbor. He would drive all night in a big circle around Texas. With his heart pounding, his hands tight on the wheel, his backward journey began. Every ten actual miles he drove, ticked the odometer back a thousand, and time peeled away like cheap paint in the sun.\n",
    "\n",
    "Old signs turned fresh. Neon blinked again. Fast-food joints disappeared and became diners. He passed a gas station he swore wasn’t there yesterday. Burma Shave signs appeared on the road with their humorous but serious messages.\n",
    "\n",
    "Two a.m. and Randy’s eyelids were growing heavy. In the country with no traffic, cool air through the partially opened windows, holding it steady on the road with a single stripe down the middle, was like someone whispering in his ear. Just close your eyes for a moment to relax them. There. That’s fine.\n",
    "\n",
    "His eyes popped open at the sound of gravel and rocks hitting the wheel wells of his car and the rumble of being on the unpaved side of the road. He was on the shoulder, drifting right. He snatched the wheel to the left to prevent going into the drainage ditch a few feet over, then fishtailed nearly sideways and headed for the opposite edge of the two-lane road, all while stomping the brakes. Marilyn’s drums locked on those big balloon white sidewalls and brought the vehicle to a stop nearly sideways in the middle of the road. Panting and gasping for breath, Randy slammed the gearshift into ‘Park’ and sat still until he could review what had nearly happened and how lucky he was. If he’d hit that ditch with no seat belt like modern cars had, he’d likely have taken a swan dive through the windshield and damn sure ended his trip.\n",
    "\n",
    "When he could finally calm his shaking hands still gripping the steering wheel, he gingerly put Marilyn in gear and proceeded cautiously down the road, determined that if he felt the least bit sleepy, he’d get out and run around the Chevy multiple times to wake up. He didn’t feel drowsy at all now.\n",
    "\n",
    "By dawn, Randy rolled into his old hometown. Astounded and looking at himself behind the steering wheel, he now wore brown loafers, blue jeans, and a white t-shirt like the fifties. His odometer now showed 3,000 miles—time to end the trip. The hands of the round-faced clock on the bank read 8:45, and a placard on hooks underneath, June 22, but no year.\n",
    "\n",
    "He pulled into a Standard Oil service station. Three young men in dark pants, pressed white shirts, black bow-ties, and paper hats rushed from the office like it was the Indy 500.\n",
    "\n",
    "“Fill ‘er up? Check the oil? Radiator? Tires?” One was already washing the windshield.\n",
    "\n",
    "“Yes, please,” Randy said, stunned. “What year is it?”\n",
    "\n",
    "“Year? Why, it’s June of fifty-seven, mister. Ain’t it a beaut’ of a mornin’?”\n",
    "\n",
    "Young Randy laughed out loud. “I’m here. I’m really here.”\n",
    "\n",
    "“Yes sir, you are,” was the reply and puzzled look.\n",
    "\n",
    "He paid five dollars for the tankful, told the boy to keep the change, peeled out, and turned onto Main Street, where the buildings looked like they’d just been painted yesterday. Maybe so. He drove straight to where he remembered Martha Jo’s house was—blue with white trim, swing on the porch.\n",
    "\n",
    "And there she was.\n",
    "\n",
    "Martha Jo.\n",
    "\n",
    "She wore a pink poodle skirt and a white shirt with a pink sweater on her shoulders. Saddle shoes over white socks. Her hair pulled back with a ribbon. She turned at the sound of Marilyn’s engine and squealed. Ran. Hands waving in the air. Leaped into the car like she’d never left.\n",
    "\n",
    "“Randy!” she shouted, hugging his neck and covering his cheek in kisses. “Where have you been, Alligator? Your mom called on the phone looking for you.” Then she gave him the once-over glance. “You look… cool, different.”\n",
    "\n",
    "He cupped her face, drinking her in—the best thing he’d ever lost. What an idiot he’d been.\n",
    "\n",
    "“I’ve just got one thing to do, Martha Jo,” he said.\n",
    "\n",
    "Puzzled. “What’s that?”\n",
    "\n",
    "He leaned under the dash, found the wire to the odometer, unscrewed the connector, and yanked it free.\n",
    "\n",
    "A loud pop.\n",
    "\n",
    "No more ticking backward.\n",
    "\n",
    "The future is now.\n",
    "\n",
    "Just her.\n",
    "\n",
    "“We’re going to have a wonderful summer together,” he said, “and then I’m going to convince you not to go off to college but stay here and go to the medical university with me.”\n",
    "\n",
    "“Randy Jenkins, are you serious?”\n",
    "\n",
    "He grinned. “Dead serious. I’ve seen what life’s like without you. And it’s not worth living.”\n",
    "\n",
    "“Aww…” she laughed, teary-eyed, then leaned in to kiss him again.\n",
    "\n",
    "And just like that, with one hand on the steering wheel and the other arm around her shoulder with her snuggled against him, Randy Jenkins drove into the past he thought he’d lost—finally ready to live it right.\n",
    "\n",
    "Marilyn purred, soft as a kitten\n",
    "\"\"\""
   ]
  },
  {
   "cell_type": "code",
   "execution_count": 20,
   "id": "af68570c",
   "metadata": {},
   "outputs": [
    {
     "name": "stdout",
     "output_type": "stream",
     "text": [
      "The story is about Randy Jenkins, a 60-year-old man who feels like he's been living a mundane life. He's haunted by memories of his past, particularly his first love, Martha Jo, and his cherry red 1957 Chevrolet Bel Air, which he named Marilyn. One day, he discovers a rusty old car that looks exactly like his old Marilyn, and he decides to buy it and restore it to its former glory. As he works on the car, he starts to notice strange things happening - the odometer is ticking backward, and he's feeling younger. He eventually discovers that the car is actually his original Marilyn, and he's been given a chance to go back in time to 1957, when he was 20 years old. Randy decides to make the most of this opportunity and drives back to his hometown, where he reunites with Martha Jo. He decides to stay in the past and make different choices, including convincing Martha Jo to stay with him and attend the local medical university. The story ends with Randy and Martha Jo driving off into the sunset, ready to start their new life together.\n"
     ]
    }
   ],
   "source": [
    "print(chain.invoke({\"question\":question,\"context\":context}))"
   ]
  },
  {
   "cell_type": "code",
   "execution_count": null,
   "id": "01509241",
   "metadata": {},
   "outputs": [],
   "source": []
  }
 ],
 "metadata": {
  "kernelspec": {
   "display_name": "llmapp",
   "language": "python",
   "name": "python3"
  },
  "language_info": {
   "codemirror_mode": {
    "name": "ipython",
    "version": 3
   },
   "file_extension": ".py",
   "mimetype": "text/x-python",
   "name": "python",
   "nbconvert_exporter": "python",
   "pygments_lexer": "ipython3",
   "version": "3.11.13"
  }
 },
 "nbformat": 4,
 "nbformat_minor": 5
}
