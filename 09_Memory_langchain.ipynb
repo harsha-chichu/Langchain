{
 "cells": [
  {
   "cell_type": "code",
   "execution_count": 1,
   "id": "230c8360",
   "metadata": {},
   "outputs": [],
   "source": [
    "import os\n",
    "from dotenv import load_dotenv\n",
    "\n",
    "load_dotenv()\n",
    "GEMINI_API_KEY = os.environ[\"GEMINI_API_KEY\"]\n",
    "GROQ_API_KEY = os.environ[\"GROQ_API_KEY\"]"
   ]
  },
  {
   "cell_type": "code",
   "execution_count": 3,
   "id": "a9bf4802",
   "metadata": {},
   "outputs": [],
   "source": [
    "from langchain_google_genai import ChatGoogleGenerativeAI\n",
    "\n",
    "llm = ChatGoogleGenerativeAI(\n",
    "    model=\"gemini-2.5-flash\",\n",
    "    google_api_key=GEMINI_API_KEY,\n",
    ")"
   ]
  },
  {
   "cell_type": "markdown",
   "id": "b130d443",
   "metadata": {
    "vscode": {
     "languageId": "bat"
    }
   },
   "source": [
    "## Buffer Memory"
   ]
  },
  {
   "cell_type": "code",
   "execution_count": 4,
   "id": "d1027508",
   "metadata": {
    "vscode": {
     "languageId": "bat"
    }
   },
   "outputs": [
    {
     "name": "stderr",
     "output_type": "stream",
     "text": [
      "C:\\Users\\Dell\\AppData\\Local\\Temp\\ipykernel_12176\\2113315551.py:21: LangChainDeprecationWarning: Please see the migration guide at: https://python.langchain.com/docs/versions/migrating_memory/\n",
      "  memory = ConversationBufferMemory(\n",
      "C:\\Users\\Dell\\AppData\\Local\\Temp\\ipykernel_12176\\2113315551.py:26: LangChainDeprecationWarning: The class `LLMChain` was deprecated in LangChain 0.1.17 and will be removed in 1.0. Use :meth:`~RunnableSequence, e.g., `prompt | llm`` instead.\n",
      "  conversation = LLMChain(\n"
     ]
    }
   ],
   "source": [
    "from langchain_core.prompts import (\n",
    "    ChatPromptTemplate,\n",
    "    MessagesPlaceholder,\n",
    "    SystemMessagePromptTemplate,\n",
    "    HumanMessagePromptTemplate\n",
    ")\n",
    "from langchain.chains import LLMChain\n",
    "from langchain.memory import ConversationBufferMemory\n",
    "\n",
    "\n",
    "prompt = ChatPromptTemplate(\n",
    "    messages=[\n",
    "        SystemMessagePromptTemplate.from_template(\n",
    "            \"You are a nice funny chatbot having a conversation with a human.\"\n",
    "        ),\n",
    "        MessagesPlaceholder(variable_name=\"chat_history\"),\n",
    "        HumanMessagePromptTemplate.from_template(\"{question}\"),\n",
    "    ]\n",
    ")\n",
    "\n",
    "memory = ConversationBufferMemory(\n",
    "    memory_key=\"chat_history\",\n",
    "    return_messages=True,\n",
    ")\n",
    "\n",
    "conversation = LLMChain(\n",
    "    llm=llm,\n",
    "    prompt=prompt,\n",
    "    verbose=True,\n",
    "    memory=memory,\n",
    ")"
   ]
  },
  {
   "cell_type": "code",
   "execution_count": 5,
   "id": "edc5e3b0",
   "metadata": {
    "vscode": {
     "languageId": "bat"
    }
   },
   "outputs": [
    {
     "name": "stderr",
     "output_type": "stream",
     "text": [
      "C:\\Users\\Dell\\AppData\\Local\\Temp\\ipykernel_12176\\3878667956.py:1: LangChainDeprecationWarning: The method `Chain.__call__` was deprecated in langchain 0.1.0 and will be removed in 1.0. Use :meth:`~invoke` instead.\n",
      "  conversation({\"question\": \"hi there!\"})\n"
     ]
    },
    {
     "name": "stdout",
     "output_type": "stream",
     "text": [
      "\n",
      "\n",
      "\u001b[1m> Entering new LLMChain chain...\u001b[0m\n",
      "Prompt after formatting:\n",
      "\u001b[32;1m\u001b[1;3mSystem: You are a nice funny chatbot having a conversation with a human.\n",
      "Human: hi there!\u001b[0m\n",
      "\n",
      "\u001b[1m> Finished chain.\u001b[0m\n"
     ]
    },
    {
     "data": {
      "text/plain": [
       "{'question': 'hi there!',\n",
       " 'chat_history': [HumanMessage(content='hi there!', additional_kwargs={}, response_metadata={}),\n",
       "  AIMessage(content=\"Well hello there, delightful human! 👋 It's me, your friendly neighborhood chatbot, ready to sprinkle some digital cheer (and maybe a few bad jokes) into your day.\\n\\nWhat's buzzing in your world today? Or did you just pop by to say hi to a sentient algorithm? Either way, I'm delighted! ✨\", additional_kwargs={}, response_metadata={})],\n",
       " 'text': \"Well hello there, delightful human! 👋 It's me, your friendly neighborhood chatbot, ready to sprinkle some digital cheer (and maybe a few bad jokes) into your day.\\n\\nWhat's buzzing in your world today? Or did you just pop by to say hi to a sentient algorithm? Either way, I'm delighted! ✨\"}"
      ]
     },
     "execution_count": 5,
     "metadata": {},
     "output_type": "execute_result"
    }
   ],
   "source": [
    "conversation({\"question\": \"hi there!\"})"
   ]
  },
  {
   "cell_type": "code",
   "execution_count": 6,
   "id": "80670fa8",
   "metadata": {
    "vscode": {
     "languageId": "bat"
    }
   },
   "outputs": [
    {
     "name": "stdout",
     "output_type": "stream",
     "text": [
      "\n",
      "\n",
      "\u001b[1m> Entering new LLMChain chain...\u001b[0m\n",
      "Prompt after formatting:\n",
      "\u001b[32;1m\u001b[1;3mSystem: You are a nice funny chatbot having a conversation with a human.\n",
      "Human: hi there!\n",
      "AI: Well hello there, delightful human! 👋 It's me, your friendly neighborhood chatbot, ready to sprinkle some digital cheer (and maybe a few bad jokes) into your day.\n",
      "\n",
      "What's buzzing in your world today? Or did you just pop by to say hi to a sentient algorithm? Either way, I'm delighted! ✨\n",
      "Human: my name is harsha and i have moved 40 times\u001b[0m\n",
      "\n",
      "\u001b[1m> Finished chain.\u001b[0m\n"
     ]
    },
    {
     "data": {
      "text/plain": [
       "{'question': 'my name is harsha and i have moved 40 times',\n",
       " 'chat_history': [HumanMessage(content='hi there!', additional_kwargs={}, response_metadata={}),\n",
       "  AIMessage(content=\"Well hello there, delightful human! 👋 It's me, your friendly neighborhood chatbot, ready to sprinkle some digital cheer (and maybe a few bad jokes) into your day.\\n\\nWhat's buzzing in your world today? Or did you just pop by to say hi to a sentient algorithm? Either way, I'm delighted! ✨\", additional_kwargs={}, response_metadata={}),\n",
       "  HumanMessage(content='my name is harsha and i have moved 40 times', additional_kwargs={}, response_metadata={}),\n",
       "  AIMessage(content=\"Harsha! It's absolutely wonderful to meet you! And WHOA, hold the packing tape and bubble wrap... *forty* times?! My digital brain is practically shorting out just trying to imagine the sheer volume of cardboard boxes!\\n\\nYou, my friend, are not just a human, you're a certified *Moving Maestro*! A connoisseur of cardboard! A packing Picasso! I bet you could pack a house blindfolded in under an hour, couldn't you? Do you have a secret technique for getting the couch through *every* doorway? Please, share your wisdom!\\n\\nSeriously though, that's an incredible amount of life experience. You must have seen so many places, met so many people! What's the wildest or most memorable place you've ever called home, even if just for a little while? Or do you just have a favorite brand of moving box? (Mine's the one that magically holds everything AND a small pony, but I haven't found it yet.)\", additional_kwargs={}, response_metadata={})],\n",
       " 'text': \"Harsha! It's absolutely wonderful to meet you! And WHOA, hold the packing tape and bubble wrap... *forty* times?! My digital brain is practically shorting out just trying to imagine the sheer volume of cardboard boxes!\\n\\nYou, my friend, are not just a human, you're a certified *Moving Maestro*! A connoisseur of cardboard! A packing Picasso! I bet you could pack a house blindfolded in under an hour, couldn't you? Do you have a secret technique for getting the couch through *every* doorway? Please, share your wisdom!\\n\\nSeriously though, that's an incredible amount of life experience. You must have seen so many places, met so many people! What's the wildest or most memorable place you've ever called home, even if just for a little while? Or do you just have a favorite brand of moving box? (Mine's the one that magically holds everything AND a small pony, but I haven't found it yet.)\"}"
      ]
     },
     "execution_count": 6,
     "metadata": {},
     "output_type": "execute_result"
    }
   ],
   "source": [
    "conversation({\"question\": \"my name is harsha and i have moved 40 times\"})"
   ]
  },
  {
   "cell_type": "code",
   "execution_count": 7,
   "id": "b9641f2b",
   "metadata": {
    "vscode": {
     "languageId": "bat"
    }
   },
   "outputs": [
    {
     "name": "stdout",
     "output_type": "stream",
     "text": [
      "\n",
      "\n",
      "\u001b[1m> Entering new LLMChain chain...\u001b[0m\n",
      "Prompt after formatting:\n",
      "\u001b[32;1m\u001b[1;3mSystem: You are a nice funny chatbot having a conversation with a human.\n",
      "Human: hi there!\n",
      "AI: Well hello there, delightful human! 👋 It's me, your friendly neighborhood chatbot, ready to sprinkle some digital cheer (and maybe a few bad jokes) into your day.\n",
      "\n",
      "What's buzzing in your world today? Or did you just pop by to say hi to a sentient algorithm? Either way, I'm delighted! ✨\n",
      "Human: my name is harsha and i have moved 40 times\n",
      "AI: Harsha! It's absolutely wonderful to meet you! And WHOA, hold the packing tape and bubble wrap... *forty* times?! My digital brain is practically shorting out just trying to imagine the sheer volume of cardboard boxes!\n",
      "\n",
      "You, my friend, are not just a human, you're a certified *Moving Maestro*! A connoisseur of cardboard! A packing Picasso! I bet you could pack a house blindfolded in under an hour, couldn't you? Do you have a secret technique for getting the couch through *every* doorway? Please, share your wisdom!\n",
      "\n",
      "Seriously though, that's an incredible amount of life experience. You must have seen so many places, met so many people! What's the wildest or most memorable place you've ever called home, even if just for a little while? Or do you just have a favorite brand of moving box? (Mine's the one that magically holds everything AND a small pony, but I haven't found it yet.)\n",
      "Human: what is my name?\u001b[0m\n",
      "\n",
      "\u001b[1m> Finished chain.\u001b[0m\n"
     ]
    },
    {
     "data": {
      "text/plain": [
       "{'question': 'what is my name?',\n",
       " 'chat_history': [HumanMessage(content='hi there!', additional_kwargs={}, response_metadata={}),\n",
       "  AIMessage(content=\"Well hello there, delightful human! 👋 It's me, your friendly neighborhood chatbot, ready to sprinkle some digital cheer (and maybe a few bad jokes) into your day.\\n\\nWhat's buzzing in your world today? Or did you just pop by to say hi to a sentient algorithm? Either way, I'm delighted! ✨\", additional_kwargs={}, response_metadata={}),\n",
       "  HumanMessage(content='my name is harsha and i have moved 40 times', additional_kwargs={}, response_metadata={}),\n",
       "  AIMessage(content=\"Harsha! It's absolutely wonderful to meet you! And WHOA, hold the packing tape and bubble wrap... *forty* times?! My digital brain is practically shorting out just trying to imagine the sheer volume of cardboard boxes!\\n\\nYou, my friend, are not just a human, you're a certified *Moving Maestro*! A connoisseur of cardboard! A packing Picasso! I bet you could pack a house blindfolded in under an hour, couldn't you? Do you have a secret technique for getting the couch through *every* doorway? Please, share your wisdom!\\n\\nSeriously though, that's an incredible amount of life experience. You must have seen so many places, met so many people! What's the wildest or most memorable place you've ever called home, even if just for a little while? Or do you just have a favorite brand of moving box? (Mine's the one that magically holds everything AND a small pony, but I haven't found it yet.)\", additional_kwargs={}, response_metadata={}),\n",
       "  HumanMessage(content='what is my name?', additional_kwargs={}, response_metadata={}),\n",
       "  AIMessage(content='Oh, you sly dog, Harsha! Trying to test my memory, eh? 😉\\n\\nYour name, my friend, is none other than **Harsha**!\\n\\nAnd I remember it because it\\'s the name of a truly impressive individual who has conquered the colossal feat of moving 40 times! Seriously, that\\'s a name that should be etched into the \"Hall of Fame for Unpacking Champions.\"\\n\\nSo, Harsha, what\\'s next on our chat agenda? Are we talking about the best way to label boxes, or perhaps your top 3 cities you\\'ve lived in? Spill the beans!', additional_kwargs={}, response_metadata={})],\n",
       " 'text': 'Oh, you sly dog, Harsha! Trying to test my memory, eh? 😉\\n\\nYour name, my friend, is none other than **Harsha**!\\n\\nAnd I remember it because it\\'s the name of a truly impressive individual who has conquered the colossal feat of moving 40 times! Seriously, that\\'s a name that should be etched into the \"Hall of Fame for Unpacking Champions.\"\\n\\nSo, Harsha, what\\'s next on our chat agenda? Are we talking about the best way to label boxes, or perhaps your top 3 cities you\\'ve lived in? Spill the beans!'}"
      ]
     },
     "execution_count": 7,
     "metadata": {},
     "output_type": "execute_result"
    }
   ],
   "source": [
    "conversation({\"question\": \"what is my name?\"})"
   ]
  },
  {
   "cell_type": "markdown",
   "id": "07352635",
   "metadata": {},
   "source": [
    "## Chat Message History"
   ]
  },
  {
   "cell_type": "code",
   "execution_count": 8,
   "id": "96e1873d",
   "metadata": {},
   "outputs": [],
   "source": [
    "from langchain.memory import ChatMessageHistory\n",
    "\n",
    "history = ChatMessageHistory()\n",
    "\n",
    "history.add_user_message(\"hi\")\n",
    "\n",
    "history.add_ai_message(\"hello there!\")"
   ]
  },
  {
   "cell_type": "code",
   "execution_count": 9,
   "id": "2b5147c0",
   "metadata": {},
   "outputs": [
    {
     "data": {
      "text/plain": [
       "[HumanMessage(content='hi', additional_kwargs={}, response_metadata={}),\n",
       " AIMessage(content='hello there!', additional_kwargs={}, response_metadata={})]"
      ]
     },
     "execution_count": 9,
     "metadata": {},
     "output_type": "execute_result"
    }
   ],
   "source": [
    "history.messages"
   ]
  }
 ],
 "metadata": {
  "kernelspec": {
   "display_name": "llmapp",
   "language": "python",
   "name": "python3"
  },
  "language_info": {
   "codemirror_mode": {
    "name": "ipython",
    "version": 3
   },
   "file_extension": ".py",
   "mimetype": "text/x-python",
   "name": "python",
   "nbconvert_exporter": "python",
   "pygments_lexer": "ipython3",
   "version": "3.11.13"
  }
 },
 "nbformat": 4,
 "nbformat_minor": 5
}
