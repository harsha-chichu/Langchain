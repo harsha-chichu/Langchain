{
 "cells": [
  {
   "cell_type": "code",
   "execution_count": 3,
   "id": "bd68b1d4",
   "metadata": {},
   "outputs": [],
   "source": [
    "import os\n",
    "from dotenv import load_dotenv\n",
    "\n",
    "load_dotenv()\n",
    "GROQ_API_KEY = os.environ[\"GROQ_API_KEY\"]"
   ]
  },
  {
   "cell_type": "code",
   "execution_count": 4,
   "id": "862735e7",
   "metadata": {},
   "outputs": [],
   "source": [
    "from langchain_groq import ChatGroq\n",
    "\n",
    "llm = ChatGroq(\n",
    "    model_name=\"llama-3.3-70b-versatile\",\n",
    "    temperature=0.7,\n",
    ")\n"
   ]
  },
  {
   "cell_type": "code",
   "execution_count": 5,
   "id": "7c0f66b2",
   "metadata": {},
   "outputs": [
    {
     "name": "stderr",
     "output_type": "stream",
     "text": [
      "C:\\Users\\Dell\\AppData\\Local\\Temp\\ipykernel_26768\\3714915794.py:2: LangChainDeprecationWarning: The class `TavilySearchResults` was deprecated in LangChain 0.3.25 and will be removed in 1.0. An updated version of the class exists in the :class:`~langchain-tavily package and should be used instead. To use it run `pip install -U :class:`~langchain-tavily` and import as `from :class:`~langchain_tavily import TavilySearch``.\n",
      "  search = TavilySearchResults(max_results=2)\n"
     ]
    },
    {
     "data": {
      "text/plain": [
       "[{'title': '2023-24 NBA Standings',\n",
       "  'url': 'https://www.basketball-reference.com/leagues/NBA_2024_standings.html',\n",
       "  'content': 'New Orleans Pelicans | 49 | 33 | .598 | 8.0 | 115.1 | 110.7 | 4.46\\nLos Angeles Lakers | 47 | 35 | .573 | 10.0 | 118.0 | 117.4 | 1.07\\nSacramento Kings | 46 | 36 | .561 | 11.0 | 116.6 | 114.8 | 2.29\\nGolden State Warriors | 46 | 36 | .561 | 11.0 | 117.8 | 115.2 | 2.77\\nHouston Rockets | 41 | 41 | .500 | 16.0 | 114.3 | 113.2 | 1.24\\nUtah Jazz | 31 | 51 | .378 | 26.0 | 115.7 | 120.5 | -4.22\\nMemphis Grizzlies | 27 | 55 | .329 | 30.0 | 105.8 | 112.8 | -6.57 [...] Philadelphia 76ers | 47 | 35 | .573 | 17.0 | 114.6 | 111.5 | 2.51\\nMiami Heat | 46 | 36 | .561 | 18.0 | 110.1 | 108.4 | 1.10\\nChicago Bulls | 39 | 43 | .476 | 25.0 | 112.3 | 113.7 | -1.77\\nAtlanta Hawks | 36 | 46 | .439 | 28.0 | 118.3 | 120.5 | -2.38\\nBrooklyn Nets | 32 | 50 | .390 | 32.0 | 110.4 | 113.3 | -3.02\\nToronto Raptors | 25 | 57 | .305 | 39.0 | 112.4 | 118.8 | -6.45\\nCharlotte Hornets | 21 | 61 | .256 | 43.0 | 106.6 | 116.8 | -10.12 [...] Phoenix Suns | 49 | 33 | .598 | 2.0 | 116.2 | 113.2 | 3.08\\nLos Angeles Lakers | 47 | 35 | .573 | 4.0 | 118.0 | 117.4 | 1.07\\nSacramento Kings | 46 | 36 | .561 | 5.0 | 116.6 | 114.8 | 2.29\\nGolden State Warriors | 46 | 36 | .561 | 5.0 | 117.8 | 115.2 | 2.77\\nSouthwest Division\\nDallas Mavericks | 50 | 32 | .610 | — | 117.9 | 115.6 | 2.30\\nNew Orleans Pelicans | 49 | 33 | .598 | 1.0 | 115.1 | 110.7 | 4.46\\nHouston Rockets | 41 | 41 | .500 | 9.0 | 114.3 | 113.2 | 1.24',\n",
       "  'score': 0.7463059},\n",
       " {'title': '2024-25 NBA Season Summary',\n",
       "  'url': 'https://www.basketball-reference.com/leagues/NBA_2025.html',\n",
       "  'content': 'You are here: \\n\\nBBR Home Page>Leagues>2024-25 NBA>Season Summary\\n\\n   Welcome ·Your Account\\n   Logout\\n   Ad-Free Login\\n   Create Account\\n\\nImage 2: 2025  Logo\\nvia Sports Logos.net\\n\\nAbout logos\\n\\n2024-25 NBA Season Summary\\n==========================\\n\\n2023-24 Season Summary\\n\\nLeague Champion: Oklahoma City Thunder\\n\\nMost Valuable Player: Shai Gilgeous-Alexander (32.7/5.0/6.4)\\n\\nRookie of the Year: Stephon Castle (14.7/3.7/4.1)\\n\\nPPG Leader: Shai Gilgeous-Alexander (32.7)',\n",
       "  'score': 0.7449724}]"
      ]
     },
     "execution_count": 5,
     "metadata": {},
     "output_type": "execute_result"
    }
   ],
   "source": [
    "from langchain_community.tools.tavily_search import TavilySearchResults\n",
    "search = TavilySearchResults(max_results=2)\n",
    "search.invoke(\"who are the top starts of the 2024 nba season?\")"
   ]
  },
  {
   "cell_type": "code",
   "execution_count": 6,
   "id": "0198280f",
   "metadata": {},
   "outputs": [],
   "source": [
    "tools = [search]"
   ]
  },
  {
   "cell_type": "code",
   "execution_count": 7,
   "id": "37fff20a",
   "metadata": {},
   "outputs": [
    {
     "data": {
      "text/plain": [
       "[TavilySearchResults(max_results=2, api_wrapper=TavilySearchAPIWrapper(tavily_api_key=SecretStr('**********')))]"
      ]
     },
     "execution_count": 7,
     "metadata": {},
     "output_type": "execute_result"
    }
   ],
   "source": [
    "tools"
   ]
  },
  {
   "cell_type": "code",
   "execution_count": 8,
   "id": "23ed7849",
   "metadata": {},
   "outputs": [],
   "source": [
    "from langgraph.prebuilt import create_react_agent\n",
    "\n",
    "agent_executor = create_react_agent(llm,tools)"
   ]
  },
  {
   "cell_type": "code",
   "execution_count": 14,
   "id": "9b1183bc",
   "metadata": {},
   "outputs": [
    {
     "data": {
      "text/plain": [
       "[HumanMessage(content='Where is the soccer Eurocup 2024 being held?', additional_kwargs={}, response_metadata={}, id='5a4e952e-63e6-4e85-b1e7-846989bbbb8f'),\n",
       " AIMessage(content='', additional_kwargs={'tool_calls': [{'id': 'c0f2dg57s', 'function': {'arguments': '{\"query\":\"soccer Eurocup 2024 location\"}', 'name': 'tavily_search_results_json'}, 'type': 'function'}]}, response_metadata={'token_usage': {'completion_tokens': 25, 'prompt_tokens': 290, 'total_tokens': 315, 'completion_time': 0.045990922, 'prompt_time': 0.028531287, 'queue_time': 0.051189433, 'total_time': 0.074522209}, 'model_name': 'llama-3.3-70b-versatile', 'system_fingerprint': 'fp_3f3b593e33', 'service_tier': 'on_demand', 'finish_reason': 'tool_calls', 'logprobs': None}, id='run--0a884701-45ff-4ae6-b2b8-2ef16ebf4571-0', tool_calls=[{'name': 'tavily_search_results_json', 'args': {'query': 'soccer Eurocup 2024 location'}, 'id': 'c0f2dg57s', 'type': 'tool_call'}], usage_metadata={'input_tokens': 290, 'output_tokens': 25, 'total_tokens': 315}),\n",
       " ToolMessage(content='[{\"title\": \"Euro 2024 locations, host cities and stadiums\", \"url\": \"https://www.foxsports.com/stories/soccer/euro-2024-locations-host-cities-and-stadiums\", \"content\": \"Published Time: 2024-03-01T14:44:49-05:00\\\\n\\\\nEuro 2024 locations, host cities and stadiums | FOX Sports\\\\n\\\\n===============\\\\n\\\\n\\\\n   Cologne: Cologne Stadium (49,827)\\\\n   Dortmund: BVB Stadion Dortmund (65,849)\\\\n   Düsseldorf: Düsseldorf Arena (51,031)\\\\n   Gelsenkirchen: Arena AufSchalke (54,740)\\\\n   Frankfurt: Frankfurt Arena (54,697)\\\\n   Hamburg: Volksparkstadion (52,245)\\\\n   Leipzig: Leipzig Stadium (42,959)\\\\n   Munich: Fußball Arena München (70,076)\\\\n   Stuttgart: Stuttgart Arena (54,906)\\\\n\\\\nshare\", \"score\": 0.85097736}, {\"title\": \"UEFA Euro 2024 - Wikipedia\", \"url\": \"https://en.wikipedia.org/wiki/UEFA_Euro_2024\", \"content\": \"UEFA Euro 2024 is located in Germany\\\\nBerlin\\\\nMunich\\\\nDortmund\\\\nGelsenkirchen\\\\nStuttgart\\\\nHamburg\\\\nDüsseldorf\\\\nCologne\\\\nFrankfurt\\\\nLeipzig\\\\n\\\\n### Team base camps\\\\n\\\\nEach team chose a \\\\\"team base camp\\\\\" for its stay between the matches. The teams trained and resided in these locations throughout the tournament, travelling to games staged away from their bases. The \\\\\"team base camp\\\\\" needed to be in Germany.\\\\n\\\\nBase camp and training ground by team—sortable [...] | Gelsenkirchen | UEFA Euro 2024 is located in Germany Berlin  Berlin  Munich  Munich  Dortmund  Dortmund  Gelsenkirchen  Gelsenkirchen  Stuttgart  Stuttgart  Hamburg  Hamburg  Düsseldorf  Düsseldorf  Cologne  Cologne  Frankfurt  Frankfurt  Leipzig  Leipzig  class=notpageimage| Location of the host cities of the UEFA Euro 2024. | | |\\\\n| Arena AufSchalke |\\\\n| Capacity: 50,000 |\\\\n|  |\\\\n| Hamburg |\\\\n| Volksparkstadion (Volksparkstadion Hamburg) |\\\\n| Capacity: 49,000 |\\\\n|  | [...] Various other stadiums, such as those in Bremen and Mönchengladbach, were not selected. The area with the highest number of venues at UEFA Euro 2024 was the Rhine-Ruhr metropolitan region in the state of North Rhine-Westphalia, with four of the ten host cities (Dortmund, Düsseldorf, Gelsenkirchen and Cologne).\", \"score\": 0.8232293}]', name='tavily_search_results_json', id='321fc3b3-6ffa-44a7-9a98-ee76581d0a98', tool_call_id='c0f2dg57s', artifact={'query': 'soccer Eurocup 2024 location', 'follow_up_questions': None, 'answer': None, 'images': [], 'results': [{'url': 'https://www.foxsports.com/stories/soccer/euro-2024-locations-host-cities-and-stadiums', 'title': 'Euro 2024 locations, host cities and stadiums', 'content': 'Published Time: 2024-03-01T14:44:49-05:00\\n\\nEuro 2024 locations, host cities and stadiums | FOX Sports\\n\\n===============\\n\\n\\n   Cologne: Cologne Stadium (49,827)\\n   Dortmund: BVB Stadion Dortmund (65,849)\\n   Düsseldorf: Düsseldorf Arena (51,031)\\n   Gelsenkirchen: Arena AufSchalke (54,740)\\n   Frankfurt: Frankfurt Arena (54,697)\\n   Hamburg: Volksparkstadion (52,245)\\n   Leipzig: Leipzig Stadium (42,959)\\n   Munich: Fußball Arena München (70,076)\\n   Stuttgart: Stuttgart Arena (54,906)\\n\\nshare', 'score': 0.85097736, 'raw_content': None}, {'url': 'https://en.wikipedia.org/wiki/UEFA_Euro_2024', 'title': 'UEFA Euro 2024 - Wikipedia', 'content': 'UEFA Euro 2024 is located in Germany\\nBerlin\\nMunich\\nDortmund\\nGelsenkirchen\\nStuttgart\\nHamburg\\nDüsseldorf\\nCologne\\nFrankfurt\\nLeipzig\\n\\n### Team base camps\\n\\nEach team chose a \"team base camp\" for its stay between the matches. The teams trained and resided in these locations throughout the tournament, travelling to games staged away from their bases. The \"team base camp\" needed to be in Germany.\\n\\nBase camp and training ground by team—sortable [...] | Gelsenkirchen | UEFA Euro 2024 is located in Germany Berlin  Berlin  Munich  Munich  Dortmund  Dortmund  Gelsenkirchen  Gelsenkirchen  Stuttgart  Stuttgart  Hamburg  Hamburg  Düsseldorf  Düsseldorf  Cologne  Cologne  Frankfurt  Frankfurt  Leipzig  Leipzig  class=notpageimage| Location of the host cities of the UEFA Euro 2024. | | |\\n| Arena AufSchalke |\\n| Capacity: 50,000 |\\n|  |\\n| Hamburg |\\n| Volksparkstadion (Volksparkstadion Hamburg) |\\n| Capacity: 49,000 |\\n|  | [...] Various other stadiums, such as those in Bremen and Mönchengladbach, were not selected. The area with the highest number of venues at UEFA Euro 2024 was the Rhine-Ruhr metropolitan region in the state of North Rhine-Westphalia, with four of the ten host cities (Dortmund, Düsseldorf, Gelsenkirchen and Cologne).', 'score': 0.8232293, 'raw_content': None}], 'response_time': 0.82, 'request_id': '9437692a-2447-4e47-9366-00c8a0e783fe'}),\n",
       " AIMessage(content='The soccer Eurocup 2024 is being held in Germany, with host cities including Berlin, Munich, Dortmund, Gelsenkirchen, Stuttgart, Hamburg, Düsseldorf, Cologne, Frankfurt, and Leipzig.', additional_kwargs={}, response_metadata={'token_usage': {'completion_tokens': 43, 'prompt_tokens': 920, 'total_tokens': 963, 'completion_time': 0.078805958, 'prompt_time': 0.0736967, 'queue_time': 0.051535551, 'total_time': 0.152502658}, 'model_name': 'llama-3.3-70b-versatile', 'system_fingerprint': 'fp_3f3b593e33', 'service_tier': 'on_demand', 'finish_reason': 'stop', 'logprobs': None}, id='run--2e8b6f3d-ea56-481f-a117-90c53d283b4b-0', usage_metadata={'input_tokens': 920, 'output_tokens': 43, 'total_tokens': 963})]"
      ]
     },
     "execution_count": 14,
     "metadata": {},
     "output_type": "execute_result"
    }
   ],
   "source": [
    "from langchain_core.messages import HumanMessage\n",
    "\n",
    "response = agent_executor.invoke({\"messages\":[HumanMessage(content=\"Where is the soccer Eurocup 2024 being held?\")]})\n",
    "\n",
    "response[\"messages\"]"
   ]
  },
  {
   "cell_type": "code",
   "execution_count": 15,
   "id": "fc6dd7db",
   "metadata": {},
   "outputs": [
    {
     "data": {
      "text/plain": [
       "[HumanMessage(content='Where is python language created?', additional_kwargs={}, response_metadata={}, id='c29fb126-8f78-4924-a611-447f8bf9fad3'),\n",
       " AIMessage(content='', additional_kwargs={'tool_calls': [{'id': 'y7xynpmkh', 'function': {'arguments': '{\"query\":\"Where is python language created\"}', 'name': 'tavily_search_results_json'}, 'type': 'function'}]}, response_metadata={'token_usage': {'completion_tokens': 22, 'prompt_tokens': 284, 'total_tokens': 306, 'completion_time': 0.059097562, 'prompt_time': 0.028059954, 'queue_time': 0.046371166, 'total_time': 0.087157516}, 'model_name': 'llama-3.3-70b-versatile', 'system_fingerprint': 'fp_3f3b593e33', 'service_tier': 'on_demand', 'finish_reason': 'tool_calls', 'logprobs': None}, id='run--b7ef437d-66e1-4e87-821e-e4e686b04999-0', tool_calls=[{'name': 'tavily_search_results_json', 'args': {'query': 'Where is python language created'}, 'id': 'y7xynpmkh', 'type': 'tool_call'}], usage_metadata={'input_tokens': 284, 'output_tokens': 22, 'total_tokens': 306}),\n",
       " ToolMessage(content='[{\"title\": \"How Python became a top programming language - ALLSTARSIT\", \"url\": \"https://www.allstarsit.com/blog/how-python-became-a-top-programming-language\", \"content\": \"So, why was Python created? Guido van Rossum, a Dutch computer scientist, wanted to make a programming language that was easy to learn, versatile, and capable of solving various programming challenges. In December 1989, he began developing Python as a successor to the ABC programming language while working at the Centrum Wiskunde & Informatica (CWI) in the Netherlands. Python debuted in February 1991 with version 0.9.0, named after the British comedy series \\\\\"Monty Python\\'s Flying Circus\\\\\". Â [...] So, why was Python created? Guido van Rossum, a Dutch computer scientist, wanted to make a programming language that was easy to learn, versatile, and capable of solving various programming challenges. In December 1989, he began developing Python as a successor to the ABC programming language while working at the Centrum Wiskunde & Informatica (CWI) in the Netherlands. Python debuted in February 1991 with version 0.9.0, named after the British comedy series \\\\\"Monty Python\\'s Flying Circus\\\\\". Â\", \"score\": 0.7458619}, {\"title\": \"History of Python - Wikipedia\", \"url\": \"https://en.wikipedia.org/wiki/History_of_Python\", \"content\": \"The programming languagePython \\\\\"Python (programming language)\\\\\") was conceived in the late 1980s,( and its implementation was started in December 1989( by Guido van Rossum at CWI in the Netherlands as a successor to ABC \\\\\"ABC (programming language)\\\\\") capable of exception handling and interfacing with the Amoeba operating system \\\\\"Amoeba (operating system)\\\\\").( Van Rossum was Python\\'s principal author and had a central role in deciding the direction of Python (as reflected in the title given to him\", \"score\": 0.7197191}]', name='tavily_search_results_json', id='45b2b8df-36cc-4eba-bebe-a6a3497c59f7', tool_call_id='y7xynpmkh', artifact={'query': 'Where is python language created', 'follow_up_questions': None, 'answer': None, 'images': [], 'results': [{'url': 'https://www.allstarsit.com/blog/how-python-became-a-top-programming-language', 'title': 'How Python became a top programming language - ALLSTARSIT', 'content': 'So, why was Python created? Guido van Rossum, a Dutch computer scientist, wanted to make a programming language that was easy to learn, versatile, and capable of solving various programming challenges. In December 1989, he began developing Python as a successor to the ABC programming language while working at the Centrum Wiskunde & Informatica (CWI) in the Netherlands. Python debuted in February 1991 with version 0.9.0, named after the British comedy series \"Monty Python\\'s Flying Circus\". Â [...] So, why was Python created? Guido van Rossum, a Dutch computer scientist, wanted to make a programming language that was easy to learn, versatile, and capable of solving various programming challenges. In December 1989, he began developing Python as a successor to the ABC programming language while working at the Centrum Wiskunde & Informatica (CWI) in the Netherlands. Python debuted in February 1991 with version 0.9.0, named after the British comedy series \"Monty Python\\'s Flying Circus\". Â', 'score': 0.7458619, 'raw_content': None}, {'url': 'https://en.wikipedia.org/wiki/History_of_Python', 'title': 'History of Python - Wikipedia', 'content': 'The programming languagePython \"Python (programming language)\") was conceived in the late 1980s,( and its implementation was started in December 1989( by Guido van Rossum at CWI in the Netherlands as a successor to ABC \"ABC (programming language)\") capable of exception handling and interfacing with the Amoeba operating system \"Amoeba (operating system)\").( Van Rossum was Python\\'s principal author and had a central role in deciding the direction of Python (as reflected in the title given to him', 'score': 0.7197191, 'raw_content': None}], 'response_time': 1.69, 'request_id': '12a133b6-210e-4812-a362-420c5d6d2190'}),\n",
       " AIMessage(content='The Python language was created in the Netherlands by Guido van Rossum, a Dutch computer scientist, while he was working at the Centrum Wiskunde & Informatica (CWI) in December 1989.', additional_kwargs={}, response_metadata={'token_usage': {'completion_tokens': 45, 'prompt_tokens': 743, 'total_tokens': 788, 'completion_time': 0.094665187, 'prompt_time': 0.061164021, 'queue_time': 0.047377119, 'total_time': 0.155829208}, 'model_name': 'llama-3.3-70b-versatile', 'system_fingerprint': 'fp_6507bcfb6f', 'service_tier': 'on_demand', 'finish_reason': 'stop', 'logprobs': None}, id='run--17267aa6-dc78-4017-9a6a-f8c2ec8320c1-0', usage_metadata={'input_tokens': 743, 'output_tokens': 45, 'total_tokens': 788})]"
      ]
     },
     "execution_count": 15,
     "metadata": {},
     "output_type": "execute_result"
    }
   ],
   "source": [
    "from langchain_core.messages import HumanMessage\n",
    "\n",
    "response = agent_executor.invoke({\"messages\":[HumanMessage(content=\"Where is python language created?\")]})\n",
    "\n",
    "response[\"messages\"]"
   ]
  }
 ],
 "metadata": {
  "kernelspec": {
   "display_name": "llmapp",
   "language": "python",
   "name": "python3"
  },
  "language_info": {
   "codemirror_mode": {
    "name": "ipython",
    "version": 3
   },
   "file_extension": ".py",
   "mimetype": "text/x-python",
   "name": "python",
   "nbconvert_exporter": "python",
   "pygments_lexer": "ipython3",
   "version": "3.11.13"
  }
 },
 "nbformat": 4,
 "nbformat_minor": 5
}
