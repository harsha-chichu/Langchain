{
 "cells": [
  {
   "cell_type": "code",
   "execution_count": 1,
   "id": "94805e1c",
   "metadata": {},
   "outputs": [],
   "source": [
    "import os\n",
    "from dotenv import load_dotenv\n",
    "\n",
    "load_dotenv()\n",
    "GEMINI_API_KEY = os.environ[\"GEMINI_API_KEY\"]\n",
    "GROQ_API_KEY = os.environ[\"GROQ_API_KEY\"]"
   ]
  },
  {
   "cell_type": "code",
   "execution_count": 2,
   "id": "96637788",
   "metadata": {},
   "outputs": [],
   "source": [
    "from langchain_google_genai import ChatGoogleGenerativeAI\n",
    "\n",
    "llm = ChatGoogleGenerativeAI(\n",
    "    model=\"gemini-2.5-flash\",\n",
    "    google_api_key=GEMINI_API_KEY,\n",
    ")"
   ]
  },
  {
   "cell_type": "code",
   "execution_count": 3,
   "id": "039d961a",
   "metadata": {},
   "outputs": [],
   "source": [
    "from langchain_core.output_parsers import StrOutputParser\n",
    "from langchain_core.prompts import ChatPromptTemplate\n",
    "\n",
    "prompt = ChatPromptTemplate.from_template(\"tell me a curious fact avout {politician}\")\n",
    "\n",
    "chain = prompt | llm | StrOutputParser()\n"
   ]
  },
  {
   "cell_type": "code",
   "execution_count": 4,
   "id": "231f3447",
   "metadata": {},
   "outputs": [
    {
     "data": {
      "text/plain": [
       "'Here\\'s a curious fact about Barack Obama:\\n\\nHe is a **two-time Grammy Award winner!**\\n\\nNo, not for singing or playing an instrument. He won both of his Grammys in the **\"Best Spoken Word Album\"** category for narrating his audiobooks:\\n\\n*   In 2006, for *Dreams from My Father*.\\n*   In 2008, for *The Audacity of Hope*.\\n\\nThis means he was a Grammy winner *before* he even became President of the United States!'"
      ]
     },
     "execution_count": 4,
     "metadata": {},
     "output_type": "execute_result"
    }
   ],
   "source": [
    "chain.invoke({\"politician\": \"Barack Obama\"})"
   ]
  },
  {
   "cell_type": "markdown",
   "id": "c092caca",
   "metadata": {},
   "source": [
    "## Legacy chain"
   ]
  },
  {
   "cell_type": "code",
   "execution_count": 5,
   "id": "3ba143ad",
   "metadata": {},
   "outputs": [
    {
     "name": "stderr",
     "output_type": "stream",
     "text": [
      "C:\\Users\\Dell\\AppData\\Local\\Temp\\ipykernel_5476\\1574323265.py:5: LangChainDeprecationWarning: The class `LLMChain` was deprecated in LangChain 0.1.17 and will be removed in 1.0. Use :meth:`~RunnableSequence, e.g., `prompt | llm`` instead.\n",
      "  traditional_chain = LLMChain(\n"
     ]
    },
    {
     "data": {
      "text/plain": [
       "{'topic': 'Moon landing',\n",
       " 'text': \"Here's a curious fact about the Moon landings:\\n\\nWhile six American flags were planted on the Moon by the Apollo missions, **only five of them are still standing.**\\n\\nThe very first flag, planted by Neil Armstrong and Buzz Aldrin during Apollo 11, was reportedly blown over by the exhaust plume from the ascent module when they took off from the lunar surface. Buzz Aldrin himself confirmed this.\\n\\nImages from NASA's Lunar Reconnaissance Orbiter (LRO) have since captured shadows cast by the other five flags, confirming they are still upright. However, due to decades of intense UV radiation and extreme temperature swings, their colors would have faded dramatically, likely turning them stark white or severely discolored by now.\"}"
      ]
     },
     "execution_count": 5,
     "metadata": {},
     "output_type": "execute_result"
    }
   ],
   "source": [
    "from langchain.chains import LLMChain\n",
    "\n",
    "prompt = ChatPromptTemplate.from_template(\"tell me a curious feact about {topic}\")\n",
    "\n",
    "traditional_chain = LLMChain(\n",
    "    llm=llm,\n",
    "    prompt=prompt,\n",
    "    output_parser=StrOutputParser(),\n",
    ")\n",
    "\n",
    "traditional_chain.invoke({\"topic\": \"Moon landing\"})"
   ]
  },
  {
   "cell_type": "code",
   "execution_count": 10,
   "id": "8e626fac",
   "metadata": {},
   "outputs": [
    {
     "name": "stdout",
     "output_type": "stream",
     "text": [
      "Here's a curious fact about Barack Obama:\n",
      "\n",
      "He is a **two-time Grammy Award winner!**\n",
      "\n",
      "He won his first Grammy in **2006** for the audiobook narration of his memoir, *Dreams from My Father*. He then won a second Grammy in **2008** for the audiobook narration of his second book, *The Audacity of Hope*. Both were in the category of **Best Spoken Word Album**.\n",
      "\n",
      "This makes him one of the few U.S. Presidents (along with Bill Clinton and Jimmy Carter) to have won a Grammy."
     ]
    }
   ],
   "source": [
    "for s in chain.stream({\"politician\": \"Barack Obama\"}):\n",
    "    print(s, end=\"\", flush=True)"
   ]
  },
  {
   "cell_type": "code",
   "execution_count": null,
   "id": "25da4493",
   "metadata": {},
   "outputs": [],
   "source": []
  }
 ],
 "metadata": {
  "kernelspec": {
   "display_name": "llmapp",
   "language": "python",
   "name": "python3"
  },
  "language_info": {
   "codemirror_mode": {
    "name": "ipython",
    "version": 3
   },
   "file_extension": ".py",
   "mimetype": "text/x-python",
   "name": "python",
   "nbconvert_exporter": "python",
   "pygments_lexer": "ipython3",
   "version": "3.11.13"
  }
 },
 "nbformat": 4,
 "nbformat_minor": 5
}
