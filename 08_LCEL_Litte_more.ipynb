{
 "cells": [
  {
   "cell_type": "code",
   "execution_count": 1,
   "id": "79a23e46",
   "metadata": {},
   "outputs": [],
   "source": [
    "import os\n",
    "from dotenv import load_dotenv\n",
    "\n",
    "load_dotenv()\n",
    "GEMINI_API_KEY = os.environ[\"GEMINI_API_KEY\"]\n",
    "GROQ_API_KEY = os.environ[\"GROQ_API_KEY\"]"
   ]
  },
  {
   "cell_type": "code",
   "execution_count": 2,
   "id": "224aa486",
   "metadata": {},
   "outputs": [],
   "source": [
    "from langchain_google_genai import ChatGoogleGenerativeAI\n",
    "\n",
    "llm = ChatGoogleGenerativeAI(\n",
    "    model=\"gemini-2.5-flash\",\n",
    "    google_api_key=GEMINI_API_KEY,\n",
    ")"
   ]
  },
  {
   "cell_type": "code",
   "execution_count": 7,
   "id": "0dc0ed60",
   "metadata": {},
   "outputs": [],
   "source": [
    "from langchain_groq import ChatGroq\n",
    "\n",
    "llm2 = ChatGroq(\n",
    "    model_name=\"llama-3.3-70b-versatile\",\n",
    "    temperature=0.7,\n",
    ")"
   ]
  },
  {
   "cell_type": "code",
   "execution_count": 4,
   "id": "5c3d5013",
   "metadata": {},
   "outputs": [],
   "source": [
    "from langchain_core.prompts import ChatPromptTemplate\n",
    "from langchain_core.output_parsers import StrOutputParser\n",
    "\n",
    "prompt = ChatPromptTemplate.from_template(\"tell me a curious fact about {soccer_player}\")\n",
    "\n",
    "output_parser = StrOutputParser()"
   ]
  },
  {
   "cell_type": "code",
   "execution_count": 8,
   "id": "2c62f595",
   "metadata": {},
   "outputs": [
    {
     "data": {
      "text/plain": [
       "\"Here's a curious fact about Lionel Messi: \\n\\nLionel Messi was diagnosed with a growth hormone deficiency when he was 11 years old. His family couldn't afford the treatment, which cost around $900 per month. However, FC Barcelona, the club he would eventually join, offered to pay for his treatment as part of their offer to sign him. This not only changed his life but also paved the way for his incredible football career.\""
      ]
     },
     "execution_count": 8,
     "metadata": {},
     "output_type": "execute_result"
    }
   ],
   "source": [
    "chain = prompt | llm2 | output_parser\n",
    "\n",
    "chain.invoke({\"soccer_player\": \"Lionel Messi\"})"
   ]
  },
  {
   "cell_type": "markdown",
   "id": "a47b9840",
   "metadata": {},
   "source": [
    "## Combining LCEL Chain"
   ]
  },
  {
   "cell_type": "code",
   "execution_count": 19,
   "id": "36ad83ce",
   "metadata": {},
   "outputs": [],
   "source": [
    "from langchain_core.prompts import ChatPromptTemplate\n",
    "from langchain_core.output_parsers import StrOutputParser\n",
    "\n",
    "prompt = ChatPromptTemplate.from_template(\"tell me a sentence about {politician}\")\n",
    "\n",
    "chain = prompt | llm2 | StrOutputParser()"
   ]
  },
  {
   "cell_type": "code",
   "execution_count": 15,
   "id": "834694c7",
   "metadata": {},
   "outputs": [
    {
     "data": {
      "text/plain": [
       "\"Barack Obama, the 44th President of the United States, served two terms in office from 2009 to 2017 and was the first African American to hold the nation's highest elected position.\""
      ]
     },
     "execution_count": 15,
     "metadata": {},
     "output_type": "execute_result"
    }
   ],
   "source": [
    "chain.invoke( \"Barack Obama\")"
   ]
  },
  {
   "cell_type": "markdown",
   "id": "5391d341",
   "metadata": {},
   "source": [
    "## Combined chain"
   ]
  },
  {
   "cell_type": "code",
   "execution_count": 20,
   "id": "330f2b1c",
   "metadata": {},
   "outputs": [],
   "source": [
    "historian_prompt = ChatPromptTemplate.from_template(\"Was {politician} positive for humanity?\")\n",
    "\n",
    "composed_chain = {\"politician\": chain} | historian_prompt | llm2 | StrOutputParser()"
   ]
  },
  {
   "cell_type": "code",
   "execution_count": 22,
   "id": "b3c4d535",
   "metadata": {},
   "outputs": [
    {
     "data": {
      "text/plain": [
       "\"Yes, Abraham Lincoln, the 16th President of the United States, is widely regarded as a highly positive figure in American history and for humanity as a whole. His strong stance against slavery and his role in preserving the Union during the Civil War had a profound impact on the country and the world.\\n\\nHere are some reasons why Lincoln's legacy is considered positive for humanity:\\n\\n1. **End of Slavery**: Lincoln's Emancipation Proclamation (1863) and his support for the 13th Amendment to the Constitution (1865) helped to bring an end to the institution of slavery in the United States. This marked a significant step towards equality and freedom for African Americans, and paved the way for the civil rights movement of the 20th century.\\n2. **Preservation of the Union**: Lincoln's leadership during the Civil War (1861-1865) helped to preserve the United States as a single, unified nation. This ensured that the country could continue to grow and thrive, and that its democratic institutions and values could be preserved for future generations.\\n3. **Promotion of Equality and Freedom**: Lincoln's commitment to equality and freedom is reflected in his famous Gettysburg Address (1863), in which he redefined the purpose of the Civil War and honored the principles of liberty and equality upon which the United States was founded.\\n4. **Inspiration to Future Generations**: Lincoln's life and legacy have inspired countless individuals and movements around the world, including civil rights leaders such as Martin Luther King Jr. and Nelson Mandela. His commitment to freedom, equality, and justice continues to inspire people to work towards a more just and equitable society.\\n5. **Unification of a Divided Nation**: Lincoln's leadership during a time of great division and strife helped to bring the country together, and his message of unity and reconciliation continues to resonate with Americans today.\\n\\nOverall, Abraham Lincoln's legacy is widely regarded as a positive force for humanity, and his commitment to freedom, equality, and justice continues to inspire people around the world.\""
      ]
     },
     "execution_count": 22,
     "metadata": {},
     "output_type": "execute_result"
    }
   ],
   "source": [
    "composed_chain.invoke({\"politician\":\"Lincoln\"})"
   ]
  },
  {
   "cell_type": "code",
   "execution_count": null,
   "id": "40e19826",
   "metadata": {},
   "outputs": [],
   "source": []
  }
 ],
 "metadata": {
  "kernelspec": {
   "display_name": "llmapp",
   "language": "python",
   "name": "python3"
  },
  "language_info": {
   "codemirror_mode": {
    "name": "ipython",
    "version": 3
   },
   "file_extension": ".py",
   "mimetype": "text/x-python",
   "name": "python",
   "nbconvert_exporter": "python",
   "pygments_lexer": "ipython3",
   "version": "3.11.13"
  }
 },
 "nbformat": 4,
 "nbformat_minor": 5
}
