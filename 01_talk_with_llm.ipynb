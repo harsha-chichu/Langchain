{
 "cells": [
  {
   "cell_type": "code",
   "execution_count": 65,
   "id": "2855828e",
   "metadata": {},
   "outputs": [
    {
     "name": "stdout",
     "output_type": "stream",
     "text": [
      "OK\n"
     ]
    }
   ],
   "source": [
    "print(\"OK\")"
   ]
  },
  {
   "cell_type": "code",
   "execution_count": 66,
   "id": "6d62d31a",
   "metadata": {},
   "outputs": [],
   "source": [
    "import os\n",
    "from dotenv import load_dotenv\n",
    "\n",
    "load_dotenv()\n",
    "GEMINI_API_KEY = os.environ[\"GEMINI_API_KEY\"]"
   ]
  },
  {
   "cell_type": "code",
   "execution_count": 67,
   "id": "d1228156",
   "metadata": {},
   "outputs": [
    {
     "name": "stdout",
     "output_type": "stream",
     "text": [
      "Here's a fun one:\n",
      "\n",
      "The Kennedy family was famously competitive and athletic, and one of their favorite pastimes at their Hyannis Port compound was **intense, no-holds-barred games of touch football**. These weren't casual games; they were known for being incredibly vigorous, with everyone from JFK himself to the youngest cousins participating, often resulting in a few bumps, bruises, and a lot of spirited rivalry!\n"
     ]
    }
   ],
   "source": [
    "from langchain_google_genai import ChatGoogleGenerativeAI\n",
    "\n",
    "llm = ChatGoogleGenerativeAI(model=\"gemini-2.5-flash\",google_api_key=GEMINI_API_KEY)\n",
    "\n",
    "response = llm.invoke(\"Tell me one fun fact about the kennedy family.\")\n",
    "\n",
    "print(response.content)\n"
   ]
  },
  {
   "cell_type": "code",
   "execution_count": 68,
   "id": "2d091333",
   "metadata": {},
   "outputs": [
    {
     "name": "stdout",
     "output_type": "stream",
     "text": [
      "Here's one fun fact about the Kennedy family, specifically focusing on John F. Kennedy, delivered in detail:\n",
      "\n",
      "**The Fun Fact: JFK's Ingenious Coconut Message from PT-109**\n",
      "\n",
      "One of the most charming and enduring fun facts about John F. Kennedy, and by extension the Kennedy family, centers around a seemingly ordinary coconut shell that played a pivotal role in saving his life and the lives of his crew during World War II.\n",
      "\n",
      "**The Context: Stranded in the Pacific**\n",
      "\n",
      "In August 1943, Lieutenant John F. Kennedy was the commander of PT-109, a patrol torpedo boat operating in the Solomon Islands. On a dark night, his boat was tragically rammed and sliced in half by the much larger Japanese destroyer *Amagiri*. The collision killed two of his crew instantly, and the remaining eleven, including Kennedy (who suffered a severe back injury), were left adrift in shark-infested waters, miles from friendly territory.\n",
      "\n",
      "For several days, Kennedy, despite his injuries, heroically led his men, towing a wounded crewman by a life vest strap clenched in his teeth for hours, swimming from island to island in search of help or provisions. They found refuge on a small, uninhabited island, but without a radio or any means of signaling, their situation was dire.\n",
      "\n",
      "**The Ingenious Solution: A Message in a Coconut**\n",
      "\n",
      "In a stroke of ingenious improvisation, Kennedy and his crew spotted two native Solomon Islanders, Biuku Gasa and Eroni Kumana, in a canoe. Realizing these men could be their only hope, Kennedy needed to send a message to the nearest Allied base. Lacking paper, he found a sturdy coconut shell.\n",
      "\n",
      "Using a Navy jackknife, Kennedy painstakingly carved a desperate message into the hard shell:\n",
      "\n",
      "**\"NAURO ISL... COMMANDER... NATIVE... KNOWS POS'IT... PEARY... JR. ... KENNEDY\"**\n",
      "\n",
      "Let's break that down:\n",
      "*   **\"NAURO ISL\"**: Referring to Nauro Island, where they were currently stranded.\n",
      "*   **\"COMMANDER\"**: Requesting to speak to the commander of the Allied forces.\n",
      "*   **\"NATIVE... KNOWS POS'IT\"**: Indicating that the native messengers knew their exact position.\n",
      "*   **\"PEARY... JR.\"**: This was a critical detail. Kennedy knew that Allied intelligence monitored Japanese radio transmissions. He included \"Peary Jr.\" (referring to Lieutenant Commander Leonard J. Peary, a supply officer and friend who had helped them acquire supplies) because he believed the Japanese might intercept the message and, if they recognized Peary's name, might think it was a trick or a coded message, thus delaying their response and giving the Allies more time to act.\n",
      "*   **\"KENNEDY\"**: His own name, for identification.\n",
      "\n",
      "**The Delivery and Rescue**\n",
      "\n",
      "The two native scouts, Gasa and Kumana, then bravely paddled their canoe approximately 35 miles through treacherous waters, carrying the coconut message, to the nearest Allied base on Rendova Island. The message was successfully delivered to Lieutenant Arthur Reginald Evans, an Australian coastwatcher, who then organized the rescue mission. Within a day, Kennedy and his surviving crew were saved.\n",
      "\n",
      "**The \"Fun\" and Enduring Legacy**\n",
      "\n",
      "What makes this truly \"fun\" and iconic is what happened next:\n",
      "\n",
      "1.  **A Personal Souvenir:** Kennedy kept the coconut shell. After the war, it sat on his desk in the Oval Office throughout his presidency, a tangible reminder of his harrowing experience and the ingenuity that saved him.\n",
      "2.  **A Symbol of Resilience:** The coconut became a powerful symbol of Kennedy's leadership, resilience, and resourcefulness. It underscored his bravery and ability to think clearly under immense pressure – qualities that resonated deeply with the American public.\n",
      "3.  **A Campaign Prop:** During his political campaigns, the story of the PT-109 and the coconut message was frequently told, burnishing his image as a war hero and a decisive leader.\n",
      "4.  **A Historical Artifact:** Today, the actual coconut shell, a testament to a dramatic chapter in American history, is proudly displayed at the John F. Kennedy Presidential Library and Museum in Boston, Massachusetts.\n",
      "\n",
      "It's a fantastic story of quick thinking, survival, and a literal \"message in a bottle\" (or coconut!) that became an enduring part of the Kennedy legend."
     ]
    }
   ],
   "source": [
    "for chunk in llm.stream(\n",
    "    \"Tell me one fun fact about the kennedy family. i need in detail response.\"\n",
    "):\n",
    "    print(chunk.content, end=\"\",flush=True)"
   ]
  },
  {
   "cell_type": "code",
   "execution_count": 69,
   "id": "f106d3a8",
   "metadata": {},
   "outputs": [],
   "source": [
    "creativeModel = ChatGoogleGenerativeAI(model=\"gemini-2.5-flash\",google_api_key=GEMINI_API_KEY,temperature=0.9)\n"
   ]
  },
  {
   "cell_type": "code",
   "execution_count": 70,
   "id": "8b209913",
   "metadata": {},
   "outputs": [],
   "source": [
    "response = creativeModel.invoke(\"Tell me one fun fact about the kennedy family.\")"
   ]
  },
  {
   "cell_type": "code",
   "execution_count": 71,
   "id": "72cbc68b",
   "metadata": {},
   "outputs": [
    {
     "name": "stdout",
     "output_type": "stream",
     "text": [
      "Here's one:\n",
      "\n",
      "The Kennedy family was famously competitive, and their spirited, no-holds-barred touch football games on the lawn of their Hyannis Port compound were legendary! They were known for being incredibly intense, with everyone from John F. Kennedy himself to his brothers and their children participating with full vigor.\n"
     ]
    }
   ],
   "source": [
    "print(response.content)"
   ]
  },
  {
   "cell_type": "markdown",
   "id": "73cf9c01",
   "metadata": {},
   "source": [
    "## Chat Model"
   ]
  },
  {
   "cell_type": "code",
   "execution_count": 72,
   "id": "45be2f8e",
   "metadata": {},
   "outputs": [],
   "source": [
    "from langchain.chat_models import init_chat_model\n",
    "\n",
    "model = init_chat_model(\"gemini-2.5-flash\", google_api_key=GEMINI_API_KEY, model_provider=\"google_genai\")"
   ]
  },
  {
   "cell_type": "code",
   "execution_count": 73,
   "id": "239ec76c",
   "metadata": {},
   "outputs": [
    {
     "data": {
      "text/plain": [
       "AIMessage(content=\"One curious thing about the Kennedy family, particularly regarding John F. Kennedy, is the extraordinary lengths to which his chronic and often debilitating health issues were kept secret from the American public.\\n\\nFar from the image of robust vitality he projected, JFK suffered from a host of serious ailments throughout his life, most notably **Addison's disease** – a life-threatening adrenal insufficiency that required daily cortisone treatments – and **severe, chronic back pain** stemming from old football injuries and his wartime service.\\n\\nHe was constantly on a complex cocktail of medications, including cortisone, painkillers, antispasmodics, antibiotics, and even stimulants and sedatives. His personal physician, Dr. Janet Travell, and later Dr. George Burkley, would accompany him everywhere, administering injections and treatments, often under the guise of helping him with his back. The public saw a vigorous, athletic young president, but behind the scenes, he was frequently in considerable pain, often ill, and sometimes even confined to a wheelchair, though never publicly.\\n\\nThis level of medical secrecy, and its successful maintenance for so long, is truly a curious testament to the family's meticulous control over their public image and the very different medical privacy norms of the era. It paints a fascinating, more complex picture of the man behind the myth.\", additional_kwargs={}, response_metadata={'prompt_feedback': {'block_reason': 0, 'safety_ratings': []}, 'finish_reason': 'STOP', 'model_name': 'gemini-2.5-flash', 'safety_ratings': []}, id='run--92e39156-b23c-40b8-93a0-12ebde87f4f0-0', usage_metadata={'input_tokens': 21, 'output_tokens': 1095, 'total_tokens': 1116, 'input_token_details': {'cache_read': 0}, 'output_token_details': {'reasoning': 830}})"
      ]
     },
     "execution_count": 73,
     "metadata": {},
     "output_type": "execute_result"
    }
   ],
   "source": [
    "messages = [\n",
    "    (\n",
    "        \"system\",\n",
    "        \"You are an historian expert in the Kennedy family.\",\n",
    "    ),\n",
    "    (\"human\", \"Tell me one curious thing about the Kennedy family.\"),\n",
    "]\n",
    "response = llm.invoke(messages)\n",
    "response"
   ]
  },
  {
   "cell_type": "code",
   "execution_count": 74,
   "id": "5a664b27",
   "metadata": {},
   "outputs": [
    {
     "name": "stdout",
     "output_type": "stream",
     "text": [
      "One curious thing about the Kennedy family, particularly regarding John F. Kennedy, is the extraordinary lengths to which his chronic and often debilitating health issues were kept secret from the American public.\n",
      "\n",
      "Far from the image of robust vitality he projected, JFK suffered from a host of serious ailments throughout his life, most notably **Addison's disease** – a life-threatening adrenal insufficiency that required daily cortisone treatments – and **severe, chronic back pain** stemming from old football injuries and his wartime service.\n",
      "\n",
      "He was constantly on a complex cocktail of medications, including cortisone, painkillers, antispasmodics, antibiotics, and even stimulants and sedatives. His personal physician, Dr. Janet Travell, and later Dr. George Burkley, would accompany him everywhere, administering injections and treatments, often under the guise of helping him with his back. The public saw a vigorous, athletic young president, but behind the scenes, he was frequently in considerable pain, often ill, and sometimes even confined to a wheelchair, though never publicly.\n",
      "\n",
      "This level of medical secrecy, and its successful maintenance for so long, is truly a curious testament to the family's meticulous control over their public image and the very different medical privacy norms of the era. It paints a fascinating, more complex picture of the man behind the myth.\n"
     ]
    }
   ],
   "source": [
    "print(response.content)"
   ]
  },
  {
   "cell_type": "code",
   "execution_count": 75,
   "id": "0fa78c35",
   "metadata": {},
   "outputs": [
    {
     "name": "stdout",
     "output_type": "stream",
     "text": [
      "{'prompt_feedback': {'block_reason': 0, 'safety_ratings': []}, 'finish_reason': 'STOP', 'model_name': 'gemini-2.5-flash', 'safety_ratings': []}\n"
     ]
    }
   ],
   "source": [
    "print(response.response_metadata)"
   ]
  },
  {
   "cell_type": "markdown",
   "id": "2161c51b",
   "metadata": {},
   "source": [
    "## Using Groq"
   ]
  },
  {
   "cell_type": "code",
   "execution_count": 76,
   "id": "afa73563",
   "metadata": {},
   "outputs": [],
   "source": [
    "import os\n",
    "from dotenv import load_dotenv\n",
    "\n",
    "load_dotenv()\n",
    "groq_api_key = os.environ[\"GROQ_API_KEY\"]"
   ]
  },
  {
   "cell_type": "code",
   "execution_count": 77,
   "id": "411677ea",
   "metadata": {},
   "outputs": [],
   "source": [
    "from langchain_groq import ChatGroq\n",
    "\n",
    "llm = ChatGroq(\n",
    "    model_name=\"llama-3.3-70b-versatile\",\n",
    "    temperature=0.7\n",
    ")"
   ]
  },
  {
   "cell_type": "code",
   "execution_count": 78,
   "id": "e9661a5e",
   "metadata": {},
   "outputs": [],
   "source": [
    "messages = [\n",
    "    (\n",
    "        \"system\",\n",
    "        \"You are an historian expert in the Kennedy family.\",\n",
    "    ),\n",
    "    (\"human\", \"How many memmbers of the kennedy died tragically?\"),\n",
    "]"
   ]
  },
  {
   "cell_type": "code",
   "execution_count": 79,
   "id": "2d706738",
   "metadata": {},
   "outputs": [
    {
     "name": "stdout",
     "output_type": "stream",
     "text": [
      "The Kennedy family has indeed been plagued by a series of tragic events, earning them the nickname \"The Curse of the Kennedys.\" Here's a list of some of the most notable tragic deaths:\n",
      "\n",
      "1. **Joseph P. Kennedy Jr.** (1915-1944): The eldest son of Joseph P. Kennedy Sr., Joseph Jr. was killed in action during World War II when his plane exploded on a secret mission.\n",
      "2. **Kathleen Kennedy Cavendish** (1920-1948): Joseph P. Kennedy Sr.'s daughter, Kathleen, died in a plane crash in France at the age of 28.\n",
      "3. **John F. Kennedy** (1917-1963): The 35th President of the United States, John F. Kennedy was assassinated in Dallas, Texas, on November 22, 1963.\n",
      "4. **Robert F. Kennedy** (1925-1968): John F. Kennedy's brother and a presidential candidate, Robert was assassinated in Los Angeles, California, on June 5, 1968.\n",
      "5. **Michael LeMoyne Kennedy** (1958-1997): The son of Robert F. Kennedy, Michael died in a skiing accident in Aspen, Colorado, on December 31, 1997.\n",
      "6. **David Anthony Kennedy** (1955-1984): Another son of Robert F. Kennedy, David died of a cocaine overdose in a hotel room in Palm Beach, Florida, on April 18, 1984.\n",
      "7. **Patrick Bouvier Kennedy** (1963-1963): The youngest child of John F. Kennedy and Jacqueline Kennedy, Patrick was born with a rare genetic disorder and died just two days after birth.\n",
      "8. **John F. Kennedy Jr.** (1960-1999): The son of John F. Kennedy and Jacqueline Kennedy, John Jr. died in a plane crash off the coast of Massachusetts on July 18, 1999, along with his wife and sister-in-law.\n",
      "9. **Mary Richardson Kennedy** (1956-2012): The wife of Robert F. Kennedy Jr., Mary died by hanging herself in her home in Bedford, New York, on May 16, 2012.\n",
      "10. **Saoirse Kennedy Hill** (1998-2019): The granddaughter of Robert F. Kennedy, Saoirse died of a suspected overdose at the Kennedy family's compound in Hyannis Port, Massachusetts, on August 1, 2019.\n",
      "\n",
      "These tragic events have led many to speculate about the existence of a \"Kennedy curse,\" although it's essential to remember that many of these incidents were the result of accidents, illnesses, or violent acts, rather than any supernatural force.\n"
     ]
    }
   ],
   "source": [
    "groq_response = llm.invoke(messages)\n",
    "print(groq_response.content)"
   ]
  },
  {
   "cell_type": "code",
   "execution_count": null,
   "id": "b66fa3e5",
   "metadata": {},
   "outputs": [],
   "source": []
  },
  {
   "cell_type": "code",
   "execution_count": null,
   "id": "b6888176",
   "metadata": {},
   "outputs": [],
   "source": []
  }
 ],
 "metadata": {
  "kernelspec": {
   "display_name": "llmapp",
   "language": "python",
   "name": "python3"
  },
  "language_info": {
   "codemirror_mode": {
    "name": "ipython",
    "version": 3
   },
   "file_extension": ".py",
   "mimetype": "text/x-python",
   "name": "python",
   "nbconvert_exporter": "python",
   "pygments_lexer": "ipython3",
   "version": "3.11.13"
  }
 },
 "nbformat": 4,
 "nbformat_minor": 5
}
