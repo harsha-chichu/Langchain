{
 "cells": [
  {
   "cell_type": "code",
   "execution_count": 4,
   "id": "05e8902b",
   "metadata": {},
   "outputs": [],
   "source": [
    "import os\n",
    "from dotenv import load_dotenv\n",
    "\n",
    "load_dotenv()\n",
    "GEMINI_API_KEY = os.environ[\"GEMINI_API_KEY\"]\n",
    "GROQ_API_KEY = os.environ[\"GROQ_API_KEY\"]"
   ]
  },
  {
   "cell_type": "code",
   "execution_count": 5,
   "id": "cd343473",
   "metadata": {},
   "outputs": [
    {
     "name": "stdout",
     "output_type": "stream",
     "text": [
      "The Kennedy family is a large and sprawling one, with many grandchildren, great-grandchildren, and even great-great-grandchildren. As of my knowledge cutoff, I can provide you with some information, but please note that this number may have changed since then.\n",
      "\n",
      "John F. Kennedy, the 35th President of the United States, had four children: Caroline, John Jr., Patrick, and Arabella (who was stillborn). His brother Robert F. Kennedy had 11 children, and their brother Ted Kennedy had three children.\n",
      "\n",
      "As for the grandchildren, Caroline Kennedy has three children: Rose, Tatiana, and John Bouvier Kennedy Schlossberg. John F. Kennedy Jr. had no children, but his wife Carolyn Bessette-Kennedy had no children either. \n",
      "\n",
      "Robert F. Kennedy's children have many kids of their own. For example, Kathleen Kennedy Townsend has four daughters, Joseph P. Kennedy II has two sons, Robert F. Kennedy Jr. has six children, and so on.\n",
      "\n",
      "Ted Kennedy's children also have kids. Kara Kennedy had two children, and Patrick Kennedy has three children.\n",
      "\n",
      "According to my knowledge, there are over 30 grandchildren of Joseph P. Kennedy Sr., the patriarch of the Kennedy family. However, this number may not be up-to-date, and I would recommend verifying it with more recent sources.\n",
      "\n",
      "I hope that helps! Do you have any other questions about the Kennedy family?\n"
     ]
    }
   ],
   "source": [
    "from langchain_core.prompts import ChatPromptTemplate\n",
    "from langchain_groq import ChatGroq\n",
    "\n",
    "llm = ChatGroq(\n",
    "    model_name=\"llama-3.3-70b-versatile\",\n",
    "    temperature=0.7,\n",
    ")\n",
    "\n",
    "template = ChatPromptTemplate([\n",
    "    (\"system\", \"You are an {profession} expert in {topic}.\"),\n",
    "    (\"human\", \"Hello, Mr. {profession}, can you please answer a question?\"),\n",
    "    (\"ai\", \"Sure!\"),\n",
    "    (\"human\", \"{user_input}\"),\n",
    "])\n",
    "\n",
    "messages = template.format_messages(\n",
    "    profession=\"Historian\",\n",
    "    topic=\"The Kennedy family\",\n",
    "    user_input=\"how many grandchildren does the Kennedy family have?\",\n",
    ")\n",
    "\n",
    "response = llm.invoke(messages)\n",
    "print(response.content)\n"
   ]
  },
  {
   "cell_type": "markdown",
   "id": "2496b641",
   "metadata": {},
   "source": [
    "## Few Shot Prompting"
   ]
  },
  {
   "cell_type": "code",
   "execution_count": 6,
   "id": "898894f8",
   "metadata": {},
   "outputs": [
    {
     "name": "stdout",
     "output_type": "stream",
     "text": [
      "Estoy bien, ¿y tú? (I'm fine, and you?)\n"
     ]
    }
   ],
   "source": [
    "from langchain_core.prompts import FewShotChatMessagePromptTemplate\n",
    "\n",
    "examples = [\n",
    "    {\"input\": \"hi\", \"output\": \"hola!\"},\n",
    "    {\"input\": \"bye\", \"output\": \"adios!\"},\n",
    "]\n",
    "\n",
    "example_prompt = ChatPromptTemplate.from_messages([\n",
    "    (\"human\", \"{input}\"),\n",
    "    (\"ai\", \"{output}\"),\n",
    "])\n",
    "\n",
    "few_shot_prompt = FewShotChatMessagePromptTemplate(\n",
    "    example_prompt=example_prompt,\n",
    "    examples=examples,\n",
    ")\n",
    "\n",
    "final_prompt = ChatPromptTemplate.from_messages([\n",
    "    (\"system\", \"You are a translator from English to Spanish.\"),\n",
    "    few_shot_prompt,\n",
    "    (\"human\", \"{input}\"),\n",
    "])\n",
    "\n",
    "chain = final_prompt | llm\n",
    "\n",
    "response = chain.invoke({\"input\": \"how are you?\"})\n",
    "print(response.content)"
   ]
  },
  {
   "cell_type": "markdown",
   "id": "0c3d5d31",
   "metadata": {},
   "source": [
    "## Output Parsers"
   ]
  },
  {
   "cell_type": "code",
   "execution_count": 10,
   "id": "885141eb",
   "metadata": {},
   "outputs": [],
   "source": [
    "from langchain_google_genai import ChatGoogleGenerativeAI\n",
    "\n",
    "llm = ChatGoogleGenerativeAI(\n",
    "    model=\"gemini-2.5-flash\",\n",
    "    google_api_key=GEMINI_API_KEY,\n",
    "    temperature=0,\n",
    "    max_tokens=None,\n",
    "    timeout=None,\n",
    "    max_retries=2,\n",
    "    # other params...\n",
    ")"
   ]
  },
  {
   "cell_type": "code",
   "execution_count": 13,
   "id": "68ffb95a",
   "metadata": {},
   "outputs": [],
   "source": [
    "from langchain_core.prompts import PromptTemplate\n",
    "from langchain.output_parsers.json import SimpleJsonOutputParser\n",
    "\n",
    "json_prompt = PromptTemplate(\n",
    "    template=\"Return a JSON object with an `answer` key that answers the following question: {question}\",\n",
    "    input_variables=[\"question\"]\n",
    ")\n",
    "\n",
    "json_parser = SimpleJsonOutputParser()\n",
    "\n",
    "json_chain = json_prompt | llm | json_parser\n"
   ]
  },
  {
   "cell_type": "code",
   "execution_count": 14,
   "id": "e9ca4e6d",
   "metadata": {},
   "outputs": [
    {
     "data": {
      "text/plain": [
       "{'answer': 'The biggest country in the world by land area is Russia.'}"
      ]
     },
     "execution_count": 14,
     "metadata": {},
     "output_type": "execute_result"
    }
   ],
   "source": [
    "json_chain.invoke({\"question\": \"what is the biggest country in the world?\"})"
   ]
  },
  {
   "cell_type": "code",
   "execution_count": null,
   "id": "1d8463ab",
   "metadata": {},
   "outputs": [],
   "source": []
  }
 ],
 "metadata": {
  "kernelspec": {
   "display_name": "llmapp",
   "language": "python",
   "name": "python3"
  },
  "language_info": {
   "codemirror_mode": {
    "name": "ipython",
    "version": 3
   },
   "file_extension": ".py",
   "mimetype": "text/x-python",
   "name": "python",
   "nbconvert_exporter": "python",
   "pygments_lexer": "ipython3",
   "version": "3.11.13"
  }
 },
 "nbformat": 4,
 "nbformat_minor": 5
}
